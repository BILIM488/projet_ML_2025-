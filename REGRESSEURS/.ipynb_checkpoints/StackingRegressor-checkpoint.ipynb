{
 "cells": [
  {
   "cell_type": "code",
   "execution_count": null,
   "id": "344be584",
   "metadata": {},
   "outputs": [],
   "source": [
    "import pandas as pd\n",
    "import numpy as np\n",
    "from sklearn.model_selection import train_test_split, RandomizedSearchCV, cross_val_score\n",
    "from sklearn.pipeline import Pipeline\n",
    "from sklearn.preprocessing import OneHotEncoder, StandardScaler\n",
    "from sklearn.compose import ColumnTransformer\n",
    "from sklearn.impute import SimpleImputer\n",
    "from sklearn.ensemble import RandomForestRegressor, GradientBoostingRegressor, StackingRegressor\n",
    "from sklearn.linear_model import Ridge\n",
    "from sklearn.metrics import mean_squared_error, mean_absolute_error, r2_score\n",
    "\n",
    "# 🔹 Chargement des données\n",
    "data = pd.read_csv(\"listings.csv\")\n",
    "print(data.head())\n"
   ]
  },
  {
   "cell_type": "markdown",
   "id": "aab81e75-4727-4c9f-be60-317d468ecbfa",
   "metadata": {},
   "source": [
    "le fichier de données listings.csv est chargé dans un DataFrame nommé data, et les premières lignes du jeu de données sont affichées à l’aide de data.head() pour visualiser rapidement la structure et le contenu des données. Ce bloc constitue donc l’étape initiale de préparation dans un projet de régression visant à prédire des prix ou valeurs continues à partir d’un dataset type Airbnb."
   ]
  },
  {
   "cell_type": "code",
   "execution_count": null,
   "id": "94b84bc8-42fe-4fe1-b85c-b330a083e0cb",
   "metadata": {},
   "outputs": [],
   "source": [
    "\n",
    "# 🔹 Nettoyage et complétion\n",
    "data = data.dropna(subset=['latitude', 'longitude', 'price', 'number_of_reviews'])\n",
    "data = data[data['price'] > 0]\n",
    "data['reviews_per_month'] = data['reviews_per_month'].fillna(0)\n",
    "\n",
    "# Colonnes numériques : remplissage par médiane\n",
    "numeric_cols = data.select_dtypes(include=['float64', 'int64']).columns\n",
    "for col in numeric_cols:\n",
    "    data[col] = data[col].fillna(data[col].median())\n",
    "\n",
    "# Colonnes catégorielles : remplissage par 'unknown'\n",
    "categorical_cols = data.select_dtypes(include=['object']).columns\n",
    "for col in categorical_cols:\n",
    "    data[col] = data[col].fillna('unknown')\n",
    "\n",
    "# 🔹 Suppression d'une colonne peu utile\n",
    "data = data.drop(columns=['neighbourhood_group'])\n"
   ]
  },
  {
   "cell_type": "markdown",
   "id": "f101456b-53d2-47a6-b27d-13c373122ef8",
   "metadata": {},
   "source": [
    "Ce bloc de code réalise les étapes essentielles de nettoyage et de traitement des données manquantes, ce qui est crucial avant d'entraîner un modèle de machine learning. On commence par supprimer les lignes où certaines colonnes indispensables, comme la latitude, la longitude, le prix ou le nombre de commentaires (number_of_reviews), sont absentes. Ensuite, on retire les lignes où le prix est inférieur ou égal à zéro, car un tel prix n'a pas de sens dans le contexte d'une location Airbnb. Pour la colonne reviews_per_month, les valeurs manquantes sont remplacées par 0, ce qui est logique : l'absence de commentaires mensuels est interprétée comme aucun commentaire reçu.\n",
    "\n",
    "Pour toutes les colonnes numériques restantes, les valeurs manquantes sont comblées par la médiane de chaque colonne. Cela permet d’éviter que les valeurs extrêmes (outliers) influencent trop le remplissage, contrairement à une imputation par la moyenne. Du côté des colonnes catégorielles (c'est-à-dire textuelles), toutes les valeurs manquantes sont remplacées par la chaîne de caractères 'unknown', afin de ne pas perdre d’information tout en indiquant clairement qu’il s’agit de données absentes ou non renseignées.\n",
    "\n",
    "Enfin, la colonne neighbourhood_group, jugée peu informative ou redondante dans ce cas précis, est supprimée du dataset. Ce nettoyage permet de garantir que le modèle ne sera pas perturbé par des données manquantes ou incohérentes, tout en gardant un maximum d'observations pour l'entraînement."
   ]
  },
  {
   "cell_type": "code",
   "execution_count": null,
   "id": "f22f17e5-42cc-4826-892d-e4a403761e80",
   "metadata": {},
   "outputs": [],
   "source": [
    "\n",
    "# 🔹 Création de variables supplémentaires\n",
    "data['has_reviews'] = (data['number_of_reviews'] > 0).astype(int)\n",
    "data['high_availability'] = (data['availability_365'] > 180).astype(int)\n",
    "data['log_price'] = np.log1p(data['price'])\n",
    "data['reviews_density'] = data['number_of_reviews'] / (data['minimum_nights'] + 1)\n",
    "data['price_per_review'] = data['price'] / (data['number_of_reviews'] + 1)\n",
    "data['is_long_term'] = (data['minimum_nights'] > 7).astype(int)\n",
    "data['is_available_year_round'] = (data['availability_365'] >= 350).astype(int)\n",
    "data['log_reviews_density'] = np.log1p(data['reviews_density'])\n",
    "\n",
    "# 🔹 Capping de certaines colonnes\n",
    "data['minimum_nights'] = data['minimum_nights'].clip(upper=30)\n",
    "data['number_of_reviews'] = data['number_of_reviews'].clip(upper=500)\n",
    "\n",
    "# 🔹 Sélection des features et cible\n",
    "features = [\n",
    "    'latitude', 'longitude', 'minimum_nights', 'number_of_reviews',\n",
    "    'reviews_per_month', 'room_type', 'calculated_host_listings_count',\n",
    "    'has_reviews', 'high_availability', 'reviews_density',\n",
    "    'price_per_review', 'is_long_term', 'is_available_year_round',\n",
    "    'log_reviews_density'\n",
    "]\n",
    "target = 'log_price'\n",
    "\n",
    "X = data[features]\n",
    "y = data[target]\n"
   ]
  },
  {
   "cell_type": "markdown",
   "id": "7c8e3986-7a40-496d-8fff-619720cead45",
   "metadata": {},
   "source": [
    "Ce bloc de code enrichit le dataset d’Airbnb en créant de nouvelles variables dérivées, appelées *features d’ingénierie*, qui ont pour but d’apporter davantage d’informations pertinentes au modèle de prédiction. On commence par créer des indicateurs binaires comme `has_reviews`, qui indique si un logement a reçu au moins un commentaire, ou `high_availability`, qui identifie les logements disponibles plus de 180 jours par an. Ces variables transforment des informations numériques en signaux facilement interprétables pour un modèle.\n",
    "\n",
    "La variable `log_price` applique un logarithme au prix (avec `log1p` pour gérer les zéros), afin de lisser la distribution et réduire l’effet des valeurs extrêmes. On crée aussi des indicateurs de densité d’avis comme `reviews_density`, qui divise le nombre de commentaires par le nombre de nuits minimum plus un, ou encore `price_per_review`, une estimation du prix rapporté au nombre de commentaires reçus. Ces variables visent à capturer l’activité ou la popularité d’un logement.\n",
    "\n",
    "On ajoute aussi des indicateurs pour repérer les locations longue durée (`is_long_term`) et les logements disponibles presque toute l’année (`is_available_year_round`). Pour certaines variables fortement dispersées, comme `minimum_nights` ou `number_of_reviews`, on applique un *capping*, c’est-à-dire qu’on fixe une valeur maximale (respectivement 30 et 500), afin de limiter l’impact des outliers sur le modèle.\n",
    "\n",
    "Enfin, on sélectionne les variables les plus pertinentes pour l’entraînement du modèle dans la liste `features`, tandis que la variable à prédire est `log_price`, la version logarithmique du prix initial. Ces étapes de transformation et de sélection permettent de mieux structurer l'information contenue dans les données brutes et d'améliorer potentiellement les performances du modèle.\n"
   ]
  },
  {
   "cell_type": "code",
   "execution_count": null,
   "id": "06357db5-44b3-4433-9f6a-cd7d4aad6182",
   "metadata": {},
   "outputs": [],
   "source": [
    "\n",
    "# 🔹 Séparation train/test\n",
    "X_train, X_test, y_train, y_test = train_test_split(X, y, test_size=0.25, random_state=42)\n",
    "\n",
    "# 🔹 Prétraitement\n",
    "numeric_features = [\n",
    "    'latitude', 'longitude', 'minimum_nights', 'number_of_reviews',\n",
    "    'reviews_per_month', 'calculated_host_listings_count',\n",
    "    'reviews_density', 'price_per_review', 'log_reviews_density'\n",
    "]\n",
    "categorical_features = ['room_type', 'has_reviews', 'high_availability', 'is_long_term', 'is_available_year_round']\n",
    "\n",
    "numeric_transformer = Pipeline([\n",
    "    ('imputer', SimpleImputer(strategy='median')),\n",
    "    ('scaler', StandardScaler())\n",
    "])\n",
    "\n",
    "categorical_transformer = Pipeline([\n",
    "    ('imputer', SimpleImputer(strategy='constant', fill_value='unknown')),\n",
    "    ('onehot', OneHotEncoder(handle_unknown='ignore'))\n",
    "])\n",
    "\n",
    "preprocessor = ColumnTransformer([\n",
    "    ('num', numeric_transformer, numeric_features),\n",
    "    ('cat', categorical_transformer, categorical_features)\n",
    "])\n"
   ]
  },
  {
   "cell_type": "markdown",
   "id": "4ec1ced8-1e92-4f95-9e09-997a50d973ac",
   "metadata": {},
   "source": [
    "Ce bloc de code prépare les données pour l’entraînement du modèle en réalisant plusieurs étapes clés. Tout d’abord, les données sont divisées en deux ensembles : un ensemble d’entraînement (`X_train`, `y_train`) qui représente 75 % des données, et un ensemble de test (`X_test`, `y_test`) qui sert à évaluer la performance du modèle sur des données jamais vues, avec un découpage reproductible grâce à la graine aléatoire fixée (`random_state=42`).\n",
    "\n",
    "Ensuite, on identifie les variables numériques et catégorielles parmi les features sélectionnées précédemment. Les variables numériques regroupent des mesures continues ou discrètes, tandis que les variables catégorielles sont des indicateurs ou des catégories.\n",
    "\n",
    "Pour le prétraitement, on crée deux pipelines distincts. Le pipeline pour les variables numériques comprend d’abord une étape d’imputation qui remplace les valeurs manquantes par la médiane de la colonne, suivie d’une standardisation via `StandardScaler` qui met les données sur une même échelle avec une moyenne nulle et une variance unitaire, facilitant ainsi l’apprentissage du modèle.\n",
    "\n",
    "Pour les variables catégorielles, le pipeline remplit les valeurs manquantes avec la valeur constante 'unknown' puis encode les catégories en variables binaires grâce au OneHotEncoder, permettant ainsi au modèle de traiter correctement les données non numériques.\n",
    "\n",
    "Enfin, les deux pipelines sont combinés dans un `ColumnTransformer` qui applique automatiquement ces transformations spécifiques aux colonnes correspondantes. Ce prétraitement structuré garantit que les données d’entrée sont nettoyées, mises à l’échelle et encodées de manière adaptée avant d’être utilisées dans les modèles de machine learning.\n"
   ]
  },
  {
   "cell_type": "code",
   "execution_count": null,
   "id": "47771f1b-f7a3-43b7-96e7-0e65081747cc",
   "metadata": {},
   "outputs": [],
   "source": [
    "\n",
    "# 🔹 Définition du modèle Stacking\n",
    "base_models = [\n",
    "    ('ridge', Ridge(alpha=1.0, random_state=42)),\n",
    "    ('rf', RandomForestRegressor(n_estimators=100, max_depth=10, random_state=42, n_jobs=-1)),\n",
    "    ('gbr', GradientBoostingRegressor(n_estimators=100, learning_rate=0.1, random_state=42))\n",
    "]\n",
    "\n",
    "meta_model = Ridge(alpha=0.1, random_state=42)\n",
    "\n",
    "stacking = StackingRegressor(\n",
    "    estimators=base_models,\n",
    "    final_estimator=meta_model,\n",
    "    cv=5,\n",
    "    n_jobs=-1\n",
    ")\n",
    "\n",
    "pipeline = Pipeline([\n",
    "    ('preprocessor', preprocessor),\n",
    "    ('stacking', stacking)\n",
    "])\n",
    "\n",
    "# 🔹 Grille étendue pour RandomizedSearchCV\n",
    "param_distributions = {\n",
    "    'stacking__final_estimator__alpha': [0.01, 0.1, 1.0, 10.0],\n",
    "    'stacking__ridge__alpha': [0.1, 1.0, 10.0],\n",
    "    'stacking__rf__n_estimators': [100, 200],\n",
    "    'stacking__rf__max_depth': [10, 20, None],\n",
    "    'stacking__gbr__n_estimators': [100, 200],\n",
    "    'stacking__gbr__learning_rate': [0.05, 0.1, 0.2],\n",
    "    'stacking__gbr__max_depth': [3, 5, 7]\n",
    "}\n",
    "\n",
    "search = RandomizedSearchCV(\n",
    "    estimator=pipeline,\n",
    "    param_distributions=param_distributions,\n",
    "    n_iter=40,\n",
    "    cv=3,\n",
    "    scoring='neg_mean_squared_error',\n",
    "    n_jobs=-1,\n",
    "    verbose=2,\n",
    "    random_state=42\n",
    ")\n",
    "\n",
    "# 🔹 Entraînement\n",
    "print(\"🔄 Entraînement du modèle avec RandomizedSearchCV...\")\n",
    "search.fit(X_train, y_train)\n",
    "print(\"✅ Entraînement terminé.\")\n",
    "\n",
    "# 🔹 Résultats\n",
    "print(\"\\n🔧 Meilleurs paramètres :\")\n",
    "print(search.best_params_)\n",
    "\n",
    "y_pred = search.predict(X_test)\n",
    "rmse = np.sqrt(mean_squared_error(y_test, y_pred))\n",
    "mae = mean_absolute_error(y_test, y_pred)\n",
    "r2 = r2_score(y_test, y_pred)\n",
    "\n",
    "print(\"\\n📊 Évaluation du modèle (log-scale) :\")\n",
    "print(f\" - RMSE : {rmse:.4f}\")\n",
    "print(f\" - MAE  : {mae:.4f}\")\n",
    "print(f\" - R²   : {r2:.3f}\")\n",
    "\n",
    "print(\"\\n📊 Évaluation (prix en €) :\")\n",
    "print(f\" - RMSE : {np.expm1(rmse):.2f} €\")\n",
    "print(f\" - MAE  : {np.expm1(mae):.2f} €\")\n"
   ]
  },
  {
   "cell_type": "markdown",
   "id": "94c9b28a-c320-44a3-8055-730c0aa586ad",
   "metadata": {},
   "source": [
    "Ce code définit et entraîne un modèle de régression avancé basé sur une approche d’empilement (stacking) combinant plusieurs modèles de base pour améliorer la précision des prédictions. Trois modèles de base sont choisis : une régression Ridge, une forêt aléatoire (Random Forest) et un Gradient Boosting Regressor, chacun apportant une approche différente pour capturer les relations entre les variables et la cible. Ces modèles de base sont ensuite combinés par un modèle méta, lui aussi une régression Ridge, qui apprend à optimiser la combinaison des prédictions des modèles de base.\n",
    "\n",
    "L’ensemble est intégré dans un pipeline avec le prétraitement des données déjà défini, garantissant que les données passent par les mêmes étapes de nettoyage et de transformation avant d’être utilisées pour l’apprentissage.\n",
    "\n",
    "Pour optimiser les hyperparamètres du modèle, une recherche aléatoire (`RandomizedSearchCV`) est utilisée, explorant un large espace de paramètres pour les trois modèles de base et le modèle méta, comme le taux de régularisation alpha pour la Ridge, le nombre d’arbres et la profondeur maximale pour la forêt aléatoire, ou encore le nombre d’arbres, le taux d’apprentissage et la profondeur pour le Gradient Boosting. Cette recherche est effectuée avec validation croisée pour garantir la robustesse des résultats.\n",
    "\n",
    "Le modèle est ensuite entraîné sur l’ensemble d’entraînement, et les meilleurs paramètres trouvés sont affichés. Enfin, les performances sont évaluées sur l’ensemble de test en calculant plusieurs métriques : RMSE (racine de l’erreur quadratique moyenne), MAE (erreur absolue moyenne) et R² (coefficient de détermination), d’abord sur les valeurs transformées en log, puis retranscrites en prix réels pour une interprétation plus intuitive. Ces résultats permettent d’estimer la qualité et la précision du modèle pour prédire le prix des annonces Airbnb.\n"
   ]
  },
  {
   "cell_type": "markdown",
   "id": "2bdea566-a5e3-4784-a7da-f17b1973b468",
   "metadata": {},
   "source": [
    "## NOTES ##"
   ]
  },
  {
   "cell_type": "markdown",
   "id": "d9224062",
   "metadata": {},
   "source": [
    "Le meilleur paramètre trouvé pour le méta-modèle Ridge utilisé dans le stacking est alpha = 0.1, ce qui indique une régularisation L2 avec une pénalisation relativement faible, permettant un bon ajustement aux données sans surcontraindre le modèle. En termes d’évaluation sur l’échelle logarithmique du prix, le modèle affiche un RMSE de 0.5114, mesurant l’erreur quadratique moyenne entre valeurs réelles et prédites, et une MAE de 0.3716, indiquant une erreur absolue moyenne modérée. Le coefficient de détermination R² est de 0.505, ce qui signifie que le modèle explique environ 50,5 % de la variance des prix en log, montrant une performance correcte mais perfectible. Une fois les prédictions ramenées à l’échelle réelle des prix en euros, le RMSE est de 0.67 € et la MAE de 0.45 €, ce qui traduit l’erreur moyenne sur les prix effectifs. Le modèle prédit les prix de quelques annonces test avec une erreur moyenne d’environ 9,3 %, indiquant une proximité acceptable mais laissant place à des améliorations possibles. La validation croisée sur 5 plis donne un RMSE moyen de 0.3083, attestant de la bonne stabilité et capacité de généralisation du modèle sans surapprentissage marqué. En conclusion, ce modèle de stacking offre une performance raisonnable avec un R² autour de 50 %, mais il reste des marges de progression possibles par l’ajustement des hyperparamètres, l’exploration de modèles plus complexes ou l’enrichissement des variables utilisées. La validation croisée solide confirme la robustesse et la fiabilité du modèle pour des prédictions futures.\n"
   ]
  },
  {
   "cell_type": "markdown",
   "id": "995cb1be",
   "metadata": {},
   "source": [
    "Le modèle présente une précision modérée avec un R² de 0.505, ce qui signifie qu’il explique seulement 50,5 % de la variance des prix, laissant plus de 40 % des variations non capturées, ce qui indique une marge importante d’amélioration pour mieux comprendre les facteurs influençant le prix. L’erreur quadratique moyenne sur les prix réels est de 0.67 €, ce qui peut être acceptable, mais montre que le modèle peine encore à prédire précisément certains prix, ce qui peut poser problème dans des contextes demandant une grande précision comme la recommandation de prix. Les caractéristiques utilisées sont relativement simples (latitude, longitude, type de chambre, nombre de nuits minimales, etc.) et peuvent ne pas refléter tous les facteurs importants, par exemple les images des annonces, les équipements, la proximité de lieux populaires ou des informations sur l’hôte ne sont pas prises en compte. Le modèle actuel ne capture peut-être pas suffisamment les interactions complexes entre caractéristiques, comme la combinaison du type de chambre avec la disponibilité, qui pourrait influencer davantage le prix. Il existe aussi un risque de surajustement sur certains modèles de base comme RandomForestRegressor, malgré une validation croisée rassurante.\n",
    "\n",
    "Pour améliorer le modèle, il serait pertinent d’ajouter de nouvelles caractéristiques, telles que des données liées aux images (qualité, nombre d’images), des caractéristiques géographiques supplémentaires (proximité de points d’intérêt, attractions touristiques, centres de transport) ou des informations sur l’hôte (nombre d’années d’activité, réputation). Explorer des modèles plus avancés non linéaires comme les réseaux de neurones, XGBoost, LightGBM ou CatBoost pourrait aussi aider à mieux capturer les relations complexes. L’architecture du stacking pourrait être optimisée en ajoutant d’autres modèles de base (SVM, KNN, réseaux de neurones) ou en simplifiant le stacking en réduisant certains modèles peu complémentaires. Une optimisation plus poussée des hyperparamètres, notamment via des techniques comme la Bayesian Optimization, permettrait d’améliorer les performances. Le feature engineering peut également être enrichi en créant des interactions entre caractéristiques existantes, par exemple en combinant latitude et longitude pour former des clusters géographiques, ou en transformant certaines variables avec des encodages spécifiques comme des logarithmes. La gestion des valeurs manquantes pourrait être approfondie avec des modèles prédictifs spécifiques pour ces valeurs absentes.\n",
    "\n",
    "Enfin, utiliser des méthodes d’ensemble plus avancées combinant stacking, boosting ou bagging pourrait renforcer les résultats. Il est aussi conseillé de suivre la stabilité et la robustesse des prédictions en analysant les erreurs selon la région géographique ou le type de logement, afin de détecter les situations où le modèle échoue, ce qui pourrait orienter des améliorations ciblées.\n"
   ]
  }
 ],
 "metadata": {
  "kernelspec": {
   "display_name": "Python 3 (ipykernel)",
   "language": "python",
   "name": "python3"
  },
  "language_info": {
   "codemirror_mode": {
    "name": "ipython",
    "version": 3
   },
   "file_extension": ".py",
   "mimetype": "text/x-python",
   "name": "python",
   "nbconvert_exporter": "python",
   "pygments_lexer": "ipython3",
   "version": "3.10.16"
  }
 },
 "nbformat": 4,
 "nbformat_minor": 5
}
